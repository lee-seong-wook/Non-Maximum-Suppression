{
  "nbformat": 4,
  "nbformat_minor": 0,
  "metadata": {
    "colab": {
      "provenance": [],
      "mount_file_id": "1_9P52R-x5VCbJC8CToFpiySwYlDC1kR-",
      "authorship_tag": "ABX9TyPlcs6Gbdxf+gXhKPfwtwah",
      "include_colab_link": true
    },
    "kernelspec": {
      "name": "python3",
      "display_name": "Python 3"
    },
    "language_info": {
      "name": "python"
    }
  },
  "cells": [
    {
      "cell_type": "markdown",
      "metadata": {
        "id": "view-in-github",
        "colab_type": "text"
      },
      "source": [
        "<a href=\"https://colab.research.google.com/github/lee-seong-wook/Non-Maximum-Suppression/blob/main/NMS_py.ipynb\" target=\"_parent\"><img src=\"https://colab.research.google.com/assets/colab-badge.svg\" alt=\"Open In Colab\"/></a>"
      ]
    },
    {
      "cell_type": "code",
      "source": [
        "import numpy as np\n",
        "import matplotlib.pyplot as plt\n",
        "import matplotlib.patches as patches\n",
        "\n",
        "def non_max_suppression(boxes, scores, iou_threshold):\n",
        "    # 박스의 넓이 계산\n",
        "    areas = (boxes[:, 2] - boxes[:, 0] + 1) * (boxes[:, 3] - boxes[:, 1] + 1)\n",
        "\n",
        "    # 점수에 따라 박스 정렬 (높은 점수부터)\n",
        "    order = np.argsort(scores)[::-1]\n",
        "\n",
        "    # 최종 선택된 박스의 인덱스 리스트\n",
        "    selected_boxes = []\n",
        "\n",
        "    while order.size > 0:\n",
        "        # 가장 높은 점수를 갖는 박스 선택\n",
        "        index = order[0]\n",
        "        selected_boxes.append(index)\n",
        "\n",
        "        # 선택된 박스와의 IoU를 계산\n",
        "        x1 = np.maximum(boxes[index, 0], boxes[order[1:], 0])\n",
        "        y1 = np.maximum(boxes[index, 1], boxes[order[1:], 1])\n",
        "        x2 = np.minimum(boxes[index, 2], boxes[order[1:], 2])\n",
        "        y2 = np.minimum(boxes[index, 3], boxes[order[1:], 3])\n",
        "\n",
        "        # 겹치는 영역 계산\n",
        "        intersection = np.maximum(0.0, x2 - x1 + 1) * np.maximum(0.0, y2 - y1 + 1)\n",
        "\n",
        "        # IoU 계산\n",
        "        iou = intersection / (areas[index] + areas[order[1:]] - intersection)\n",
        "\n",
        "        # IoU가 임계값보다 작은 박스들만 남기기\n",
        "        inds = np.where(iou <= iou_threshold)[0]\n",
        "        order = order[inds + 1]\n",
        "\n",
        "    return selected_boxes\n",
        "\n",
        "boxes = np.array([[30, 20, 80, 70], [40, 30, 90, 80], [25, 15, 75, 65]])\n",
        "scores = np.array([0.9, 0.75, 0.6])\n",
        "iou_threshold = 0.5\n",
        "\n",
        "selected_indices = non_max_suppression(boxes, scores, iou_threshold)\n",
        "selected_boxes = boxes[selected_indices]\n",
        "\n",
        "print(\"선택된 박스 인덱스:\", selected_indices)\n",
        "print(\"선택된 박스 좌표:\", selected_boxes)\n",
        "\n",
        "# 시각화\n",
        "fig, ax = plt.subplots(1, 2, figsize=(10, 5))\n",
        "\n",
        "# NMS 이전의 바운딩 박스 시각화\n",
        "for box, score in zip(boxes, scores):\n",
        "    rect = patches.Rectangle((box[0], box[1]), box[2] - box[0], box[3] - box[1],\n",
        "                             linewidth=1, edgecolor='r', facecolor='none')\n",
        "    ax[0].add_patch(rect)\n",
        "    ax[0].text(box[0], box[1], f'{score:.2f}', color='r')\n",
        "\n",
        "ax[0].set_title('Before NMS')\n",
        "ax[0].set_xlim(0, 100)\n",
        "ax[0].set_ylim(0, 80)\n",
        "\n",
        "# NMS 이후의 바운딩 박스 시각화\n",
        "for box, score in zip(selected_boxes, scores[selected_indices]):\n",
        "    rect = patches.Rectangle((box[0], box[1]), box[2] - box[0], box[3] - box[1],\n",
        "                             linewidth=1, edgecolor='b', facecolor='none')\n",
        "    ax[1].add_patch(rect)\n",
        "    ax[1].text(box[0], box[1], f'{score:.2f}', color='b')\n",
        "\n",
        "ax[1].set_title('After NMS')\n",
        "ax[1].set_xlim(0, 100)\n",
        "ax[1].set_ylim(0, 80)\n",
        "\n",
        "plt.show()\n",
        "# 이처럼 nms는 object detection model에서 겹치는 bounding box를 제거하여 최종결과를 정리하는 기술\n"
      ],
      "metadata": {
        "colab": {
          "base_uri": "https://localhost:8080/",
          "height": 524
        },
        "id": "LBHq6MoQ0goU",
        "outputId": "2209d938-d9ea-466f-a3db-f12c15a19b65"
      },
      "execution_count": 58,
      "outputs": [
        {
          "output_type": "stream",
          "name": "stdout",
          "text": [
            "선택된 박스 인덱스: [0, 1]\n",
            "선택된 박스 좌표: [[30 20 80 70]\n",
            " [40 30 90 80]]\n"
          ]
        },
        {
          "output_type": "display_data",
          "data": {
            "text/plain": [
              "<Figure size 1000x500 with 2 Axes>"
            ],
            "image/png": "[encoded data removed]"
          },
          "metadata": {}
        }
      ]
    }
  ]
}